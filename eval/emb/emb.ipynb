{
 "cells": [
  {
   "cell_type": "code",
   "execution_count": 1,
   "id": "86be7eea-f79a-4e2f-901b-62ca6f2c1168",
   "metadata": {},
   "outputs": [],
   "source": [
    "import re\n",
    "import json\n",
    "results=[]\n",
    "with open(r\"D:\\学习\\代码应用\\机器学习\\QAG论文\\2000seed_output_3-28\\2000seed_output\\2000seed_markdown_output_1\\results_1.jsonl\", 'r', encoding='utf-8') as f:\n",
    "    for line in f:\n",
    "        results.append(json.loads(line))\n",
    "results=results[:30]\n",
    "path=[]\n",
    "for i in results:\n",
    "    path.append(re.sub('/home/binbin/Desktop','.',i['file_info']['path']))"
   ]
  },
  {
   "cell_type": "code",
   "execution_count": 5,
   "id": "e06ef90c-bf24-4aa0-8524-2a220dd49079",
   "metadata": {},
   "outputs": [
    {
     "data": {
      "application/vnd.jupyter.widget-view+json": {
       "model_id": "f1dd206b01b149bb910478d843d677fd",
       "version_major": 2,
       "version_minor": 0
      },
      "text/plain": [
       "文章emb任务进度:   0%|          | 0/30 [00:00<?, ?it/s]"
      ]
     },
     "metadata": {},
     "output_type": "display_data"
    },
    {
     "data": {
      "application/vnd.jupyter.widget-view+json": {
       "model_id": "c2d0a71ad7194ee585d3c1c7c83ce86f",
       "version_major": 2,
       "version_minor": 0
      },
      "text/plain": [
       "文章0emb进度:   0%|          | 0/30 [00:00<?, ?it/s]"
      ]
     },
     "metadata": {},
     "output_type": "display_data"
    },
    {
     "name": "stderr",
     "output_type": "stream",
     "text": [
      "You're using a XLMRobertaTokenizerFast tokenizer. Please note that with a fast tokenizer, using the `__call__` method is faster than using a method to encode the text followed by a call to the `pad` method to get a padded encoding.\n"
     ]
    },
    {
     "data": {
      "application/vnd.jupyter.widget-view+json": {
       "model_id": "f3206fb1634f4d9d950d1d0a36a17439",
       "version_major": 2,
       "version_minor": 0
      },
      "text/plain": [
       "文章1emb进度:   0%|          | 0/30 [00:00<?, ?it/s]"
      ]
     },
     "metadata": {},
     "output_type": "display_data"
    },
    {
     "data": {
      "application/vnd.jupyter.widget-view+json": {
       "model_id": "548240250b00433bb471a506e945a4cf",
       "version_major": 2,
       "version_minor": 0
      },
      "text/plain": [
       "文章2emb进度:   0%|          | 0/30 [00:00<?, ?it/s]"
      ]
     },
     "metadata": {},
     "output_type": "display_data"
    },
    {
     "data": {
      "application/vnd.jupyter.widget-view+json": {
       "model_id": "d9d4d40d843b44659bc55e052a563eb4",
       "version_major": 2,
       "version_minor": 0
      },
      "text/plain": [
       "文章3emb进度:   0%|          | 0/30 [00:00<?, ?it/s]"
      ]
     },
     "metadata": {},
     "output_type": "display_data"
    },
    {
     "data": {
      "application/vnd.jupyter.widget-view+json": {
       "model_id": "a8cc3eea708e481e88395597be382d36",
       "version_major": 2,
       "version_minor": 0
      },
      "text/plain": [
       "文章4emb进度:   0%|          | 0/30 [00:00<?, ?it/s]"
      ]
     },
     "metadata": {},
     "output_type": "display_data"
    },
    {
     "data": {
      "application/vnd.jupyter.widget-view+json": {
       "model_id": "3b87a93cf1f2444abc8d0f86a76e168c",
       "version_major": 2,
       "version_minor": 0
      },
      "text/plain": [
       "文章5emb进度:   0%|          | 0/30 [00:00<?, ?it/s]"
      ]
     },
     "metadata": {},
     "output_type": "display_data"
    },
    {
     "data": {
      "application/vnd.jupyter.widget-view+json": {
       "model_id": "b334a295b6c14bf5b510226ee77905c7",
       "version_major": 2,
       "version_minor": 0
      },
      "text/plain": [
       "文章6emb进度:   0%|          | 0/30 [00:00<?, ?it/s]"
      ]
     },
     "metadata": {},
     "output_type": "display_data"
    },
    {
     "data": {
      "application/vnd.jupyter.widget-view+json": {
       "model_id": "b9508ba230504f84b88f67665989df6a",
       "version_major": 2,
       "version_minor": 0
      },
      "text/plain": [
       "文章7emb进度:   0%|          | 0/30 [00:00<?, ?it/s]"
      ]
     },
     "metadata": {},
     "output_type": "display_data"
    },
    {
     "data": {
      "application/vnd.jupyter.widget-view+json": {
       "model_id": "07fdba17b7ef44d78d29c8ba02db3940",
       "version_major": 2,
       "version_minor": 0
      },
      "text/plain": [
       "文章8emb进度:   0%|          | 0/30 [00:00<?, ?it/s]"
      ]
     },
     "metadata": {},
     "output_type": "display_data"
    },
    {
     "data": {
      "application/vnd.jupyter.widget-view+json": {
       "model_id": "597673d9011140a1b5da7b7e2bd06243",
       "version_major": 2,
       "version_minor": 0
      },
      "text/plain": [
       "文章9emb进度:   0%|          | 0/30 [00:00<?, ?it/s]"
      ]
     },
     "metadata": {},
     "output_type": "display_data"
    },
    {
     "data": {
      "application/vnd.jupyter.widget-view+json": {
       "model_id": "106406b3e3c04ab6a7f51d31d7a715fc",
       "version_major": 2,
       "version_minor": 0
      },
      "text/plain": [
       "文章10emb进度:   0%|          | 0/30 [00:00<?, ?it/s]"
      ]
     },
     "metadata": {},
     "output_type": "display_data"
    },
    {
     "data": {
      "application/vnd.jupyter.widget-view+json": {
       "model_id": "d067a1e789c944b58e3b98671929359b",
       "version_major": 2,
       "version_minor": 0
      },
      "text/plain": [
       "文章11emb进度:   0%|          | 0/30 [00:00<?, ?it/s]"
      ]
     },
     "metadata": {},
     "output_type": "display_data"
    },
    {
     "data": {
      "application/vnd.jupyter.widget-view+json": {
       "model_id": "a7972826bc6946eb9a5a6280c9c2d22e",
       "version_major": 2,
       "version_minor": 0
      },
      "text/plain": [
       "文章12emb进度:   0%|          | 0/30 [00:00<?, ?it/s]"
      ]
     },
     "metadata": {},
     "output_type": "display_data"
    },
    {
     "data": {
      "application/vnd.jupyter.widget-view+json": {
       "model_id": "e5dacbaf595f400bb4e0e19e662259f7",
       "version_major": 2,
       "version_minor": 0
      },
      "text/plain": [
       "文章13emb进度:   0%|          | 0/30 [00:00<?, ?it/s]"
      ]
     },
     "metadata": {},
     "output_type": "display_data"
    },
    {
     "data": {
      "application/vnd.jupyter.widget-view+json": {
       "model_id": "62048bbf90cd460ca9bdc40d96081ffd",
       "version_major": 2,
       "version_minor": 0
      },
      "text/plain": [
       "文章14emb进度:   0%|          | 0/30 [00:00<?, ?it/s]"
      ]
     },
     "metadata": {},
     "output_type": "display_data"
    },
    {
     "data": {
      "application/vnd.jupyter.widget-view+json": {
       "model_id": "a95a2457f6ad4bb3af227d9fbb0880b1",
       "version_major": 2,
       "version_minor": 0
      },
      "text/plain": [
       "文章15emb进度:   0%|          | 0/30 [00:00<?, ?it/s]"
      ]
     },
     "metadata": {},
     "output_type": "display_data"
    },
    {
     "data": {
      "application/vnd.jupyter.widget-view+json": {
       "model_id": "6feb034adb0e4b5a9a87db9b62dcc6ec",
       "version_major": 2,
       "version_minor": 0
      },
      "text/plain": [
       "文章16emb进度:   0%|          | 0/30 [00:00<?, ?it/s]"
      ]
     },
     "metadata": {},
     "output_type": "display_data"
    },
    {
     "data": {
      "application/vnd.jupyter.widget-view+json": {
       "model_id": "60390430d88c4cf5a8522202d4af542c",
       "version_major": 2,
       "version_minor": 0
      },
      "text/plain": [
       "文章17emb进度:   0%|          | 0/30 [00:00<?, ?it/s]"
      ]
     },
     "metadata": {},
     "output_type": "display_data"
    },
    {
     "data": {
      "application/vnd.jupyter.widget-view+json": {
       "model_id": "caea1d4ecb4645e5b13602aafd749652",
       "version_major": 2,
       "version_minor": 0
      },
      "text/plain": [
       "文章18emb进度:   0%|          | 0/30 [00:00<?, ?it/s]"
      ]
     },
     "metadata": {},
     "output_type": "display_data"
    },
    {
     "data": {
      "application/vnd.jupyter.widget-view+json": {
       "model_id": "9e31719444dc484992657c7c6c832015",
       "version_major": 2,
       "version_minor": 0
      },
      "text/plain": [
       "文章19emb进度:   0%|          | 0/30 [00:00<?, ?it/s]"
      ]
     },
     "metadata": {},
     "output_type": "display_data"
    },
    {
     "data": {
      "application/vnd.jupyter.widget-view+json": {
       "model_id": "3e7a690b12e24081907a95f2a012c7f9",
       "version_major": 2,
       "version_minor": 0
      },
      "text/plain": [
       "文章20emb进度:   0%|          | 0/30 [00:00<?, ?it/s]"
      ]
     },
     "metadata": {},
     "output_type": "display_data"
    },
    {
     "data": {
      "application/vnd.jupyter.widget-view+json": {
       "model_id": "67d6f792607044598cdb11a3e00e76d6",
       "version_major": 2,
       "version_minor": 0
      },
      "text/plain": [
       "文章21emb进度:   0%|          | 0/30 [00:00<?, ?it/s]"
      ]
     },
     "metadata": {},
     "output_type": "display_data"
    },
    {
     "data": {
      "application/vnd.jupyter.widget-view+json": {
       "model_id": "55c809187f824fadabfa615a820f46ce",
       "version_major": 2,
       "version_minor": 0
      },
      "text/plain": [
       "文章22emb进度:   0%|          | 0/30 [00:00<?, ?it/s]"
      ]
     },
     "metadata": {},
     "output_type": "display_data"
    },
    {
     "data": {
      "application/vnd.jupyter.widget-view+json": {
       "model_id": "cb2d1084ca17412eb516db7b3084c00a",
       "version_major": 2,
       "version_minor": 0
      },
      "text/plain": [
       "文章23emb进度:   0%|          | 0/30 [00:00<?, ?it/s]"
      ]
     },
     "metadata": {},
     "output_type": "display_data"
    },
    {
     "data": {
      "application/vnd.jupyter.widget-view+json": {
       "model_id": "5b78ec73993d496ca266482b208487d3",
       "version_major": 2,
       "version_minor": 0
      },
      "text/plain": [
       "文章24emb进度:   0%|          | 0/30 [00:00<?, ?it/s]"
      ]
     },
     "metadata": {},
     "output_type": "display_data"
    },
    {
     "data": {
      "application/vnd.jupyter.widget-view+json": {
       "model_id": "0a091f5882284a5cb984480b7647a8e2",
       "version_major": 2,
       "version_minor": 0
      },
      "text/plain": [
       "文章25emb进度:   0%|          | 0/30 [00:00<?, ?it/s]"
      ]
     },
     "metadata": {},
     "output_type": "display_data"
    },
    {
     "data": {
      "application/vnd.jupyter.widget-view+json": {
       "model_id": "4321ef5209584a118fdb2f62d2cf6e09",
       "version_major": 2,
       "version_minor": 0
      },
      "text/plain": [
       "文章26emb进度:   0%|          | 0/30 [00:00<?, ?it/s]"
      ]
     },
     "metadata": {},
     "output_type": "display_data"
    },
    {
     "data": {
      "application/vnd.jupyter.widget-view+json": {
       "model_id": "c230442a9d8a43e98a23195fd624e7cb",
       "version_major": 2,
       "version_minor": 0
      },
      "text/plain": [
       "文章27emb进度:   0%|          | 0/30 [00:00<?, ?it/s]"
      ]
     },
     "metadata": {},
     "output_type": "display_data"
    },
    {
     "data": {
      "application/vnd.jupyter.widget-view+json": {
       "model_id": "dbb356fcd7fb4da49231812da6a2765f",
       "version_major": 2,
       "version_minor": 0
      },
      "text/plain": [
       "文章28emb进度:   0%|          | 0/30 [00:00<?, ?it/s]"
      ]
     },
     "metadata": {},
     "output_type": "display_data"
    },
    {
     "data": {
      "application/vnd.jupyter.widget-view+json": {
       "model_id": "2fb9f07db548449b84fc8dc524f68ab7",
       "version_major": 2,
       "version_minor": 0
      },
      "text/plain": [
       "文章29emb进度:   0%|          | 0/30 [00:00<?, ?it/s]"
      ]
     },
     "metadata": {},
     "output_type": "display_data"
    }
   ],
   "source": [
    "from FlagEmbedding import BGEM3FlagModel\n",
    "import pickle\n",
    "from tqdm.notebook import tqdm, trange\n",
    "\n",
    "chunk_count=30\n",
    "def split_text_with_overlap(text, chunk_count=chunk_count, overlap=256):\n",
    "    \"\"\"\n",
    "    将文本切成数量相近的num_parts份，并且每个文本块之间有一定的重叠\n",
    "\n",
    "    参数:\n",
    "        text (str): 输入的文本\n",
    "        num_parts (int): 要分成的份数，默认为10\n",
    "        overlap (int): 每个文本块之间的重叠字符数，默认为10\n",
    "\n",
    "    返回:\n",
    "        list: 包含切分后的文本块的列表\n",
    "    \"\"\"\n",
    "    text_length = len(text)\n",
    "    part_size = text_length // chunk_count  # 每个部分的基础大小\n",
    "    remainder = text_length % chunk_count   # 剩余的字符数\n",
    "\n",
    "    parts = []\n",
    "    start = 0\n",
    "\n",
    "    for i in range(chunk_count):\n",
    "        # 计算当前部分的结束位置\n",
    "        if i < remainder:\n",
    "            end = start + part_size + 1\n",
    "        else:\n",
    "            end = start + part_size\n",
    "\n",
    "        # 如果是第一个部分，没有重叠\n",
    "        if i == 0:\n",
    "            current_part = text[start:end]\n",
    "        else:\n",
    "            # 从上一个部分的结束位置减去重叠字符数作为当前部分的起始位置\n",
    "            start = max(0, start - overlap)\n",
    "            current_part = text[start:end]\n",
    "\n",
    "        parts.append(current_part)\n",
    "        start = end\n",
    "\n",
    "    return parts\n",
    "\n",
    "##embedding部分与相关性评分\n",
    "model = BGEM3FlagModel('BAAI/bge-m3',\n",
    "                       use_fp16=True)\n",
    "article_embs=[]\n",
    "##article\n",
    "for i in tqdm(range(30),desc=\"文章emb任务进度\"):\n",
    "    with open(path[i], 'r', encoding='utf-8') as f:\n",
    "        txt=f.read()\n",
    "    chunks = split_text_with_overlap(txt)\n",
    "    article_emb=[]\n",
    "    with trange(len(chunks), desc=f\"文章{i}emb进度\") as tbar:\n",
    "        for j in chunks:\n",
    "            article_emb.append(model.encode(j)['dense_vecs'])\n",
    "            tbar.update()\n",
    "    article_embs.append(article_emb)\n",
    "\n",
    "with open(f'article_embs_{chunk_count}chunks.pkl', 'wb') as file:\n",
    "    pickle.dump(article_embs, file)"
   ]
  }
 ],
 "metadata": {
  "kernelspec": {
   "display_name": "Python 3 (ipykernel)",
   "language": "python",
   "name": "python3"
  },
  "language_info": {
   "codemirror_mode": {
    "name": "ipython",
    "version": 3
   },
   "file_extension": ".py",
   "mimetype": "text/x-python",
   "name": "python",
   "nbconvert_exporter": "python",
   "pygments_lexer": "ipython3",
   "version": "3.10.5"
  }
 },
 "nbformat": 4,
 "nbformat_minor": 5
}

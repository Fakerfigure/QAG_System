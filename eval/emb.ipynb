{
 "cells": [
  {
   "cell_type": "code",
   "execution_count": 11,
   "id": "d655f32f-c3e5-4319-8a7b-e016d02dfa8e",
   "metadata": {},
   "outputs": [],
   "source": [
    "import re\n",
    "import json\n",
    "results = []\n",
    "with open(r\"./results_1.jsonl\", 'r', encoding='utf-8') as f:\n",
    "    for line in f:\n",
    "        results.append(json.loads(line))\n",
    "results=results[:30]\n",
    "path=[]\n",
    "QA=[]\n",
    "#QA.append([])\n",
    "for i in results:\n",
    "    path.append(re.sub('/home/binbin/Desktop','.',i['file_info']['path']))"
   ]
  },
  {
   "cell_type": "code",
   "execution_count": 12,
   "id": "b61adf30-1880-4c05-bfb4-90478cbf75e8",
   "metadata": {},
   "outputs": [],
   "source": [
    "results = []\n",
    "QA.append([])\n",
    "with open(r\"./去除二级分块.jsonl\", 'r', encoding='utf-8') as f:\n",
    "    for line in f:\n",
    "        results.append(json.loads(line))\n",
    "for i in path:\n",
    "    qa_pair=[]\n",
    "    for j in results:\n",
    "        if j[\"标题\"][:-3] in i:\n",
    "            qa_pair.append({\"question\":j[\"question\"],\"answer\":j[\"answer\"]})\n",
    "    QA[0].append(qa_pair)\n",
    "\n",
    "results = []\n",
    "QA.append([])\n",
    "with open(r\"./去除BM25.jsonl\", 'r', encoding='utf-8') as f:\n",
    "    for line in f:\n",
    "        results.append(json.loads(line))\n",
    "for i in path:\n",
    "    qa_pair=[]\n",
    "    for j in results:\n",
    "        if j[\"标题\"][:-3] in i:\n",
    "            qa_pair.append({\"question\":j[\"question\"],\"answer\":j[\"answer\"]})\n",
    "    QA[1].append(qa_pair)"
   ]
  },
  {
   "cell_type": "code",
   "execution_count": 15,
   "id": "49c0f918-1878-45b7-b131-30856166b47d",
   "metadata": {},
   "outputs": [
    {
     "data": {
      "text/plain": [
       "10"
      ]
     },
     "execution_count": 15,
     "metadata": {},
     "output_type": "execute_result"
    }
   ],
   "source": [
    "len(QA[0][0])"
   ]
  },
  {
   "cell_type": "code",
   "execution_count": null,
   "id": "c2622c8f-8e28-445e-8ba9-60a7154a8c90",
   "metadata": {},
   "outputs": [],
   "source": [
    "from FlagEmbedding import BGEM3FlagModel\n",
    "import pickle\n",
    "##embedding部分与相关性评分\n",
    "model = BGEM3FlagModel('BAAI/bge-m3',\n",
    "                       use_fp16=True)\n",
    "QA_embs=[]\n",
    "\n",
    "for i in range(len(QA)):\n",
    "    QA_emb=[]\n",
    "    for j in range(30):\n",
    "        ##qa\n",
    "        qa_emb=[]\n",
    "        for k in QA[i][j]:\n",
    "            q=model.encode(k['question'])['dense_vecs']\n",
    "            a=model.encode(k['answer'])['dense_vecs']\n",
    "            qa_emb.append((q,a))\n",
    "        QA_emb.append(qa_emb)\n",
    "    QA_embs.append(QA_emb)\n",
    "\n",
    "with open('qa_embs_Ablation.pkl', 'wb') as file:\n",
    "    pickle.dump(QA_embs, file)"
   ]
  }
 ],
 "metadata": {
  "kernelspec": {
   "display_name": "Python 3 (ipykernel)",
   "language": "python",
   "name": "python3"
  },
  "language_info": {
   "codemirror_mode": {
    "name": "ipython",
    "version": 3
   },
   "file_extension": ".py",
   "mimetype": "text/x-python",
   "name": "python",
   "nbconvert_exporter": "python",
   "pygments_lexer": "ipython3",
   "version": "3.10.5"
  }
 },
 "nbformat": 4,
 "nbformat_minor": 5
}
